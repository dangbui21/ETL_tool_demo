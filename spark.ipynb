{
 "cells": [
  {
   "cell_type": "code",
   "execution_count": 1,
   "metadata": {},
   "outputs": [],
   "source": [
    "from pyspark.sql import SparkSession\n",
    "from pyspark.sql.types import StructType, StructField, StringType, IntegerType\n"
   ]
  },
  {
   "cell_type": "code",
   "execution_count": 2,
   "metadata": {},
   "outputs": [],
   "source": [
    "# Khởi tạo một phiên Spark trên Google Colab\n",
    "spark = SparkSession.builder \\\n",
    "    .appName(\"PySpark on Google Colab\") \\\n",
    "    .getOrCreate()"
   ]
  },
  {
   "cell_type": "code",
   "execution_count": 3,
   "metadata": {},
   "outputs": [],
   "source": [
    "# Định nghĩa lược đồ\n",
    "schema = StructType([\n",
    "    StructField(\"surname\", StringType(), True),\n",
    "    StructField(\"team\", StringType(), True),\n",
    "    StructField(\"position\", StringType(), True),\n",
    "    StructField(\"minutes\", IntegerType(), True),\n",
    "    StructField(\"shots\", IntegerType(), True),\n",
    "    StructField(\"passes\", IntegerType(), True),\n",
    "    StructField(\"tackles\", IntegerType(), True),\n",
    "    StructField(\"saves\", IntegerType(), True)\n",
    "])"
   ]
  },
  {
   "cell_type": "code",
   "execution_count": 4,
   "metadata": {},
   "outputs": [
    {
     "name": "stdout",
     "output_type": "stream",
     "text": [
      "+---------+-------+----------+-------+-----+------+-------+-----+\n",
      "|  surname|   team|  position|minutes|shots|passes|tackles|saves|\n",
      "+---------+-------+----------+-------+-----+------+-------+-----+\n",
      "|   Abdoun|Algeria|midfielder|     16|    0|     6|      0|    0|\n",
      "|   Abdoun|Algeria|midfielder|     16|    0|     6|      0|    0|\n",
      "|  Belhadj|Algeria|  defender|    270|    1|   146|      8| NULL|\n",
      "|Boudebouz|Algeria|midfielder|     74|    3|    28|      1| NULL|\n",
      "|Bougherra|Algeria|  defender|    270|    1|    89|     11|    0|\n",
      "| Chaouchi|Algeria|goalkeeper|     90|    0|    17|      0|    2|\n",
      "| Djebbour|Algeria|   forward|    123|    3|    19|      1|    0|\n",
      "|  Ghezzal|Algeria|   forward|     40|    3|     8|      0|    0|\n",
      "|Guedioura|Algeria|midfielder|     38|    0|    18|      1|    0|\n",
      "| Halliche|Algeria|  defender|    270|    2|    94|      4|    0|\n",
      "+---------+-------+----------+-------+-----+------+-------+-----+\n",
      "only showing top 10 rows\n",
      "\n"
     ]
    }
   ],
   "source": [
    "# Tạo DataFrame từ dữ liệu và lược đồ\n",
    "df = spark.read.csv(\"Players.csv\", header=True, schema=schema)\n",
    "# Hiển thị dữ liệu của DataFrame\n",
    "df.show(10)"
   ]
  },
  {
   "cell_type": "code",
   "execution_count": 5,
   "metadata": {},
   "outputs": [
    {
     "name": "stdout",
     "output_type": "stream",
     "text": [
      "+-------+----------+-------+----------+------------------+------------------+-----------------+-----------------+------------------+\n",
      "|summary|   surname|   team|  position|           minutes|             shots|           passes|          tackles|             saves|\n",
      "+-------+----------+-------+----------+------------------+------------------+-----------------+-----------------+------------------+\n",
      "|  count|       596|    596|       596|               596|               596|              596|              596|               594|\n",
      "|   mean|      NULL|   NULL|      NULL|208.54026845637583|2.3003355704697985|84.38926174496645|4.184563758389261|0.6683501683501684|\n",
      "| stddev|      NULL|   NULL|      NULL| 145.5258793789045| 3.345946985793561|77.31230664289909|4.653307847866984| 2.958300690142359|\n",
      "|    min|    Abdoun|Algeria|  defender|                 1|                 0|                0|                0|                 0|\n",
      "|    max|von Bergen|Uruguay|midfielder|               570|                27|              563|               34|                20|\n",
      "+-------+----------+-------+----------+------------------+------------------+-----------------+-----------------+------------------+\n",
      "\n"
     ]
    }
   ],
   "source": [
    "# Tính toán thống kê tóm tắt của các cột số\n",
    "df.describe().show()"
   ]
  },
  {
   "cell_type": "code",
   "execution_count": 6,
   "metadata": {},
   "outputs": [
    {
     "name": "stdout",
     "output_type": "stream",
     "text": [
      "['surname', 'team', 'position', 'minutes', 'shots', 'passes', 'tackles', 'saves']\n"
     ]
    }
   ],
   "source": [
    "# Lấy danh sách tên cột\n",
    "column_list = df.columns\n",
    "print(column_list)"
   ]
  },
  {
   "cell_type": "code",
   "execution_count": 7,
   "metadata": {},
   "outputs": [
    {
     "name": "stdout",
     "output_type": "stream",
     "text": [
      "Số lượng hàng trong dữ liệu: 596\n"
     ]
    }
   ],
   "source": [
    "# Đếm số lượng hàng trong dữ liệu\n",
    "row_count = df.count()\n",
    "print(\"Số lượng hàng trong dữ liệu:\", row_count)"
   ]
  },
  {
   "cell_type": "code",
   "execution_count": 8,
   "metadata": {},
   "outputs": [
    {
     "name": "stdout",
     "output_type": "stream",
     "text": [
      "+---------+-------+----------+-------+-----+------+-------+-----+\n",
      "|  surname|   team|  position|minutes|shots|passes|tackles|saves|\n",
      "+---------+-------+----------+-------+-----+------+-------+-----+\n",
      "|   Abdoun|Algeria|midfielder|     16|    0|     6|      0|    0|\n",
      "|   Abdoun|Algeria|midfielder|     16|    0|     6|      0|    0|\n",
      "|Boudebouz|Algeria|midfielder|     74|    3|    28|      1| NULL|\n",
      "|Guedioura|Algeria|midfielder|     38|    0|    18|      1|    0|\n",
      "|    Kadir|Algeria|midfielder|    262|    0|   104|      3|    0|\n",
      "|    Lacen|Algeria|midfielder|    270|    0|   158|      8|    0|\n",
      "|  Matmour|Algeria|midfielder|    255|    3|    68|      3|    0|\n",
      "|   Mesbah|Algeria|midfielder|      1|    0|     1|      0|    0|\n",
      "|    Yebda|Algeria|midfielder|    269|    8|   138|     10|    0|\n",
      "|    Ziani|Algeria|midfielder|    240|    5|    93|      6|    0|\n",
      "+---------+-------+----------+-------+-----+------+-------+-----+\n",
      "only showing top 10 rows\n",
      "\n"
     ]
    }
   ],
   "source": [
    "# Sử dụng phương thức filter() để lọc dữ liệu lấy các cầu thủ có vị trí là midfielde\n",
    "filtered_df = df.filter(df.position == 'midfielder')\n",
    "filtered_df.show(10)"
   ]
  },
  {
   "cell_type": "code",
   "execution_count": 9,
   "metadata": {},
   "outputs": [
    {
     "name": "stdout",
     "output_type": "stream",
     "text": [
      "+----------+------------+\n",
      "|  position|sum(minutes)|\n",
      "+----------+------------+\n",
      "|goalkeeper|       11337|\n",
      "|   forward|       23838|\n",
      "|  defender|       45423|\n",
      "|midfielder|       43692|\n",
      "+----------+------------+\n",
      "\n"
     ]
    }
   ],
   "source": [
    "# Sử dụng phương thức groupBy() để nhóm dữ liệu và tính tổng số phút chơi của từng vị trí\n",
    "grouped_df = df.groupBy('position').sum('minutes')\n",
    "grouped_df.show()"
   ]
  },
  {
   "cell_type": "code",
   "execution_count": 10,
   "metadata": {},
   "outputs": [
    {
     "name": "stdout",
     "output_type": "stream",
     "text": [
      "+------------+---------+----------+-------+-----+------+-------+-----+\n",
      "|     surname|     team|  position|minutes|shots|passes|tackles|saves|\n",
      "+------------+---------+----------+-------+-----+------+-------+-----+\n",
      "|    Djebbour|  Algeria|   forward|    123|    3|    19|      1|    0|\n",
      "|     M'Bolhi|  Algeria|goalkeeper|    180|    0|    30|      0|   12|\n",
      "|      Aguero|Argentina|   forward|    106|    2|    57|      2|    0|\n",
      "|   Gutierrez|Argentina|midfielder|    191|    0|    83|     11|    0|\n",
      "|      Samuel|Argentina|  defender|    114|    2|    43|      1|    0|\n",
      "|       Veron|Argentina|midfielder|    185|    3|   235|     10|    0|\n",
      "|   Bresciano|Australia|midfielder|    132|    3|    47|      1|    0|\n",
      "|      Cahill|Australia|midfielder|    146|    6|    39|      1|    0|\n",
      "|      Carney|Australia|  defender|    180|    0|    56|      4|    0|\n",
      "|Chipperfield|Australia|midfielder|    138|    2|    50|      3|    0|\n",
      "+------------+---------+----------+-------+-----+------+-------+-----+\n",
      "only showing top 10 rows\n",
      "\n"
     ]
    }
   ],
   "source": [
    "# Lọc các cầu thủ có số phút chơi nằm trong khoảng từ 100 đến 200\n",
    "filtered_df = df.filter(df.minutes.between(100, 200))\n",
    "filtered_df.show(10)"
   ]
  },
  {
   "cell_type": "code",
   "execution_count": 11,
   "metadata": {},
   "outputs": [
    {
     "name": "stdout",
     "output_type": "stream",
     "text": [
      "+--------------+---------+----------+-------+-----+------+-------+-----+\n",
      "|       surname|     team|  position|minutes|shots|passes|tackles|saves|\n",
      "+--------------+---------+----------+-------+-----+------+-------+-----+\n",
      "|        Abdoun|  Algeria|midfielder|     16|    0|     6|      0|    0|\n",
      "|        Abdoun|  Algeria|midfielder|     16|    0|     6|      0|    0|\n",
      "|        Aguero|Argentina|   forward|    106|    2|    57|      2|    0|\n",
      "|     Aboubakar| Cameroon|   forward|     46|    2|    16|      0|    0|\n",
      "|Alexandre Song| Cameroon|midfielder|     90|    1|    59|      7|    0|\n",
      "|  Assou-Ekotto| Cameroon|  defender|    270|    0|   116|      5|    0|\n",
      "|         Agger|  Denmark|  defender|    270|    2|   120|     10|    0|\n",
      "|   Ashley Cole|  England|  defender|    360|    0|   142|     12|    0|\n",
      "|        Abidal|   France|  defender|    180|    0|    91|      6|    0|\n",
      "|    Abou Diaby|   France|midfielder|    270|    1|   111|      5|    0|\n",
      "+--------------+---------+----------+-------+-----+------+-------+-----+\n",
      "only showing top 10 rows\n",
      "\n"
     ]
    }
   ],
   "source": [
    "# Lọc các cầu thủ có tên bắt đầu bằng \"A\"\n",
    "filtered_df = df.filter(df.surname.rlike(\"^A\"))\n",
    "filtered_df.show(10)"
   ]
  },
  {
   "cell_type": "code",
   "execution_count": 13,
   "metadata": {},
   "outputs": [
    {
     "name": "stdout",
     "output_type": "stream",
     "text": [
      "+---------+-------+----------+-------+-----+------+-------+-----+----------+\n",
      "|  surname|   team|  position|minutes|shots|passes|tackles|saves|high_shots|\n",
      "+---------+-------+----------+-------+-----+------+-------+-----+----------+\n",
      "|   Abdoun|Algeria|midfielder|     16|    0|     6|      0|    0|         0|\n",
      "|   Abdoun|Algeria|midfielder|     16|    0|     6|      0|    0|         0|\n",
      "|  Belhadj|Algeria|  defender|    270|    1|   146|      8| NULL|         0|\n",
      "|Boudebouz|Algeria|midfielder|     74|    3|    28|      1| NULL|         0|\n",
      "|Bougherra|Algeria|  defender|    270|    1|    89|     11|    0|         0|\n",
      "| Chaouchi|Algeria|goalkeeper|     90|    0|    17|      0|    2|         0|\n",
      "| Djebbour|Algeria|   forward|    123|    3|    19|      1|    0|         0|\n",
      "|  Ghezzal|Algeria|   forward|     40|    3|     8|      0|    0|         0|\n",
      "|Guedioura|Algeria|midfielder|     38|    0|    18|      1|    0|         0|\n",
      "| Halliche|Algeria|  defender|    270|    2|    94|      4|    0|         0|\n",
      "+---------+-------+----------+-------+-----+------+-------+-----+----------+\n",
      "only showing top 10 rows\n",
      "\n"
     ]
    }
   ],
   "source": [
    "# Tạo một cột mới \"high_shots\" để chỉ định liệu số lần sút của cầu thủ có lớn hơn 3 không\n",
    "from pyspark.sql.functions import when\n",
    "\n",
    "df1 = df.withColumn(\"high_shots\", when(df.shots > 3, 1).otherwise(0))\n",
    "df1.show(10)"
   ]
  },
  {
   "cell_type": "code",
   "execution_count": 43,
   "metadata": {},
   "outputs": [
    {
     "name": "stdout",
     "output_type": "stream",
     "text": [
      "+--------------+--------+-------+-----+\n",
      "|       surname|    team|minutes|shots|\n",
      "+--------------+--------+-------+-----+\n",
      "|       Asamoah|   Ghana|    480|   11|\n",
      "|        Anelka|  France|    117|    7|\n",
      "|Alvaro Pereira| Uruguay|    409|    6|\n",
      "|       Almeida|Portugal|    136|    5|\n",
      "|          Ayew|   Ghana|    389|    3|\n",
      "+--------------+--------+-------+-----+\n",
      "\n"
     ]
    }
   ],
   "source": [
    "from pyspark.sql.functions import col\n",
    "#Kết hợp nhiều điều kiện \n",
    "filtered_df = df.filter((df.minutes.between(100, 500)) & (df.shots >= 3) & df.surname.rlike(\"^A\")) \\\n",
    "                 .select(col(\"surname\"), col(\"team\"), col(\"minutes\"), col(\"shots\")) \\\n",
    "                 .orderBy(col(\"shots\").desc())\n",
    "\n",
    "filtered_df.show(10)"
   ]
  },
  {
   "cell_type": "code",
   "execution_count": 14,
   "metadata": {},
   "outputs": [
    {
     "data": {
      "image/png": "[encoded data removed]",
      "text/plain": [
       "<Figure size 640x480 with 1 Axes>"
      ]
     },
     "metadata": {},
     "output_type": "display_data"
    }
   ],
   "source": [
    "import matplotlib.pyplot as plt\n",
    "\n",
    "# Đếm số lượng cầu thủ theo vị trí\n",
    "position_counts = df.groupBy('position').count().collect()\n",
    "\n",
    "positions = [row['position'] for row in position_counts]\n",
    "counts = [row['count'] for row in position_counts]\n",
    "\n",
    "plt.bar(positions, counts)\n",
    "plt.xlabel('Position')\n",
    "plt.ylabel('Count')\n",
    "plt.title('Number of Players by Position')\n",
    "plt.show()"
   ]
  },
  {
   "cell_type": "code",
   "execution_count": 50,
   "metadata": {},
   "outputs": [
    {
     "data": {
      "image/png": "[encoded data removed]",
      "text/plain": [
       "<Figure size 640x480 with 1 Axes>"
      ]
     },
     "metadata": {},
     "output_type": "display_data"
    }
   ],
   "source": [
    "import seaborn as sns\n",
    "\n",
    "# Tạo biểu đồ hộp cho phân phối thời gian thi đấu\n",
    "sns.boxplot(x='position', y='minutes', data=df.toPandas())\n",
    "plt.xlabel('Position')\n",
    "plt.ylabel('Minutes Played')\n",
    "plt.title('Distribution of Minutes Played by Position')\n",
    "plt.show()"
   ]
  },
  {
   "cell_type": "code",
   "execution_count": 15,
   "metadata": {},
   "outputs": [],
   "source": [
    "spark.stop()"
   ]
  }
 ],
 "metadata": {
  "kernelspec": {
   "display_name": "Python 3",
   "language": "python",
   "name": "python3"
  },
  "language_info": {
   "codemirror_mode": {
    "name": "ipython",
    "version": 3
   },
   "file_extension": ".py",
   "mimetype": "text/x-python",
   "name": "python",
   "nbconvert_exporter": "python",
   "pygments_lexer": "ipython3",
   "version": "3.10.11"
  }
 },
 "nbformat": 4,
 "nbformat_minor": 2
}
